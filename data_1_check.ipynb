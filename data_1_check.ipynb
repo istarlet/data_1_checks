{
 "cells": [
  {
   "cell_type": "markdown",
   "metadata": {},
   "source": [
    "A statement that prints \"hello world!\""
   ]
  },
  {
   "cell_type": "code",
   "execution_count": 3,
   "metadata": {},
   "outputs": [
    {
     "name": "stdout",
     "output_type": "stream",
     "text": [
      "hello world!\n"
     ]
    }
   ],
   "source": [
    "print(\"hello world!\")\n"
   ]
  },
  {
   "cell_type": "markdown",
   "metadata": {},
   "source": []
  },
  {
   "cell_type": "markdown",
   "metadata": {},
   "source": [
    "A list populated with several values. They can be strings / integers / floats etc. Then, print() one of those values either to the prompt or in a cell (if using Jupyter Notebook)"
   ]
  },
  {
   "cell_type": "code",
   "execution_count": 2,
   "metadata": {},
   "outputs": [
    {
     "name": "stdout",
     "output_type": "stream",
     "text": [
      "Gavin\n"
     ]
    }
   ],
   "source": [
    "mynephews = [\"Ian\", \"Oscar\", \"Ethan\", \"Jaxon\", \"Gavin\", \"Nolan\"]\n",
    "print(mynephews[4])"
   ]
  },
  {
   "cell_type": "markdown",
   "metadata": {},
   "source": []
  },
  {
   "cell_type": "markdown",
   "metadata": {},
   "source": [
    "A dictionary populated with two keys and two values. Print one of the values just like you did above"
   ]
  },
  {
   "cell_type": "code",
   "execution_count": 49,
   "metadata": {},
   "outputs": [
    {
     "name": "stdout",
     "output_type": "stream",
     "text": [
      "{'name': 'Ian', 'age': 22}\n",
      "{'name': 'Oscar', 'age': 16}\n",
      "{'name': 'Ethan', 'age': 14}\n",
      "{'name': 'Jaxon', 'age': 4}\n",
      "{'name': 'Gavin', 'age': 2}\n",
      "{'name': 'Nolan', 'age': 1}\n"
     ]
    }
   ],
   "source": [
    "my_nephews = [\n",
    "    {\n",
    "    \"name\" : \"Ian\",\n",
    "    \"age\" : 22},\n",
    "    {\n",
    "    \"name\" : \"Oscar\",\n",
    "    \"age\" : 16},\n",
    "    {\n",
    "    \"name\" : \"Ethan\",\n",
    "    \"age\" : 14},\n",
    "    {\n",
    "    \"name\" : \"Jaxon\",\n",
    "    \"age\" : 4},\n",
    "    {\n",
    "    \"name\" : \"Gavin\",\n",
    "    \"age\" : 2},\n",
    "    {\n",
    "    \"name\" : \"Nolan\",\n",
    "    \"age\" : 1\n",
    "    }\n",
    "  \n",
    "]\n",
    "\n",
    "for key in my_nephews:\n",
    "    print(key)"
   ]
  }
 ],
 "metadata": {
  "interpreter": {
   "hash": "336eef9849b77f6b0e6305e90cdc738d46520fb9fa12c5786748c59b9e847d10"
  },
  "kernelspec": {
   "display_name": "Python 3.9.7 ('base')",
   "language": "python",
   "name": "python3"
  },
  "language_info": {
   "codemirror_mode": {
    "name": "ipython",
    "version": 3
   },
   "file_extension": ".py",
   "mimetype": "text/x-python",
   "name": "python",
   "nbconvert_exporter": "python",
   "pygments_lexer": "ipython3",
   "version": "3.9.7"
  },
  "orig_nbformat": 4
 },
 "nbformat": 4,
 "nbformat_minor": 2
}
